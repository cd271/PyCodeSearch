{
 "cells": [
  {
   "cell_type": "code",
   "execution_count": 1,
   "id": "ae47ffd5-52a2-44ea-8506-c3707af25723",
   "metadata": {},
   "outputs": [
    {
     "name": "stderr",
     "output_type": "stream",
     "text": [
      "/cs/home/cd271/codesearch/lib64/python3.9/site-packages/tqdm/auto.py:21: TqdmWarning: IProgress not found. Please update jupyter and ipywidgets. See https://ipywidgets.readthedocs.io/en/stable/user_install.html\n",
      "  from .autonotebook import tqdm as notebook_tqdm\n"
     ]
    },
    {
     "name": "stdout",
     "output_type": "stream",
     "text": [
      "Generating code embeddings for dataset ... \n"
     ]
    },
    {
     "name": "stderr",
     "output_type": "stream",
     "text": [
      "100%|███████████████████████████████████████████████████████████████████████████████| 1171/1171 [01:02<00:00, 18.63it/s]"
     ]
    },
    {
     "name": "stdout",
     "output_type": "stream",
     "text": [
      "Dataset code embeddings generated!\n"
     ]
    },
    {
     "name": "stderr",
     "output_type": "stream",
     "text": [
      "\n"
     ]
    }
   ],
   "source": [
    "from data import file_to_lists\n",
    "from model import get_code_embeddings, get_cos_similarity, retrieve_topN\n",
    "\n",
    "from tqdm import tqdm\n",
    "\n",
    "repo = 'keon/algorithms'\n",
    "repo_info = {}\n",
    "function_list = file_to_lists(f\"content/output/{repo}/directory_info.json\")\n",
    "repo_info[\"funcs\"] = function_list\n",
    "\n",
    "\n",
    "print(\"Generating code embeddings for dataset ... \")\n",
    "code_embeddings = []\n",
    "for func in tqdm(repo_info[\"funcs\"]):\n",
    "    code_embeddings.append(get_code_embeddings(func))\n",
    "    \n",
    "print(\"Dataset code embeddings generated!\")"
   ]
  },
  {
   "cell_type": "code",
   "execution_count": 7,
   "id": "97e7d142-aabd-466c-ba07-6003698e1d88",
   "metadata": {},
   "outputs": [],
   "source": [
    "class CodeSearchEngine:\n",
    "    def __init__(self, repo_info, code_embeddings):\n",
    "        self.repo_info = repo_info\n",
    "        self.code_embeddings = code_embeddings\n",
    "\n",
    "    def search(self, query, n):\n",
    "        code_embeddings = self.code_embeddings\n",
    "        input_embedding = get_code_embeddings(query)\n",
    "        similarities = get_cos_similarity(input_embedding, code_embeddings)\n",
    "        similar_func_names = retrieve_topN(self.repo_info, similarities, n)\n",
    "        \n",
    "        print('The most similiar {n} code snippets:')\n",
    "        for func_name in similar_func_names:\n",
    "            print(f'\\n------------------------------------------------------------------\\n {func_name}')\n",
    "\n",
    "# Instantiate the CodeSearchEngine\n",
    "se = CodeSearchEngine(repo_info, code_embeddings)\n"
   ]
  },
  {
   "cell_type": "code",
   "execution_count": 10,
   "id": "954c732b-f08d-4ec2-95df-eaea267a488d",
   "metadata": {},
   "outputs": [],
   "source": [
    "from IPython.core.magic import (register_line_magic, register_cell_magic)\n",
    "\n",
    "@register_line_magic\n",
    "def search(line):\n",
    "    query = line.strip()\n",
    "    n = int(input(\"How many similar code snippets you want to retrieve: \\n\"))\n",
    "    se.search(query, n)"
   ]
  },
  {
   "cell_type": "code",
   "execution_count": 11,
   "id": "f0339f44-60e7-4d09-aca8-41f17b596369",
   "metadata": {},
   "outputs": [
    {
     "name": "stdin",
     "output_type": "stream",
     "text": [
      "How many similar code snippets you want to retrieve: \n",
      " 5\n"
     ]
    },
    {
     "name": "stdout",
     "output_type": "stream",
     "text": [
      "The most similiar {n} code snippets:\n",
      "\n",
      "------------------------------------------------------------------\n",
      " def main():\n",
      "    (m, n) = map(int, input('Enter two positive integers: ').split())\n",
      "    count_paths(m, n)\n",
      "\n",
      "------------------------------------------------------------------\n",
      " def as_list(self):\n",
      "    \"\"\" Return interval as list. \"\"\"\n",
      "    return list(self)\n",
      "\n",
      "------------------------------------------------------------------\n",
      " def __repr__(self):\n",
      "    return 'Interval ({}, {})'.format(self.start, self.end)\n",
      "\n",
      "------------------------------------------------------------------\n",
      " def decrypt(data, d, n):\n",
      "    return pow(int(data), int(d), int(n))\n",
      "\n",
      "------------------------------------------------------------------\n",
      " def multiply(multiplicand: list, multiplier: list) -> list:\n",
      "    \"\"\"\n",
      "    :type A: List[List[int]]\n",
      "    :type B: List[List[int]]\n",
      "    :rtype: List[List[int]]\n",
      "    \"\"\"\n",
      "    (multiplicand_row, multiplicand_col) = (len(multiplicand), len(multiplicand[0]))\n",
      "    (multiplier_row, multiplier_col) = (len(multiplier), len(multiplier[0]))\n",
      "    if multiplicand_col != multiplier_row:\n",
      "        raise Exception('Multiplicand matrix not compatible with Multiplier matrix.')\n",
      "    result = [[0] * multiplier_col for i in range(multiplicand_row)]\n",
      "    for i in range(multiplicand_row):\n",
      "        for j in range(multiplier_col):\n",
      "            for k in range(len(multiplier)):\n",
      "                result[i][j] += multiplicand[i][k] * multiplier[k][j]\n",
      "    return result\n"
     ]
    },
    {
     "data": {
      "text/plain": [
       "\"\\ndef test_topsort(self):\\n    res_recursive = top_sort_recursive(self.depGraph)\\n    self.assertTrue(res_recursive.index('g') < res_recursive.index('e'))\\n    \\n    res_iterative = top_sort(self.depGraph)\\n    self.assertTrue(res_iterative.index('g') < res_iterative.index('e'))\\n\\n\""
      ]
     },
     "execution_count": 11,
     "metadata": {},
     "output_type": "execute_result"
    }
   ],
   "source": [
    "%search\n",
    "\"\"\"\n",
    "def test_topsort(self):\n",
    "    res_recursive = top_sort_recursive(self.depGraph)\n",
    "    self.assertTrue(res_recursive.index('g') < res_recursive.index('e'))\n",
    "    \n",
    "    res_iterative = top_sort(self.depGraph)\n",
    "    self.assertTrue(res_iterative.index('g') < res_iterative.index('e'))\n",
    "\n",
    "\"\"\""
   ]
  },
  {
   "cell_type": "code",
   "execution_count": null,
   "id": "ceacefb2-a238-4be2-9296-0b5bad340c76",
   "metadata": {},
   "outputs": [],
   "source": []
  }
 ],
 "metadata": {
  "kernelspec": {
   "display_name": "Python 3 (ipykernel)",
   "language": "python",
   "name": "python3"
  },
  "language_info": {
   "codemirror_mode": {
    "name": "ipython",
    "version": 3
   },
   "file_extension": ".py",
   "mimetype": "text/x-python",
   "name": "python",
   "nbconvert_exporter": "python",
   "pygments_lexer": "ipython3",
   "version": "3.9.16"
  }
 },
 "nbformat": 4,
 "nbformat_minor": 5
}
