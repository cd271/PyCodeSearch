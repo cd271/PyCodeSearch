{
 "cells": [
  {
   "attachments": {},
   "cell_type": "markdown",
   "id": "950ae8ee-22d2-4a11-99b6-678e089da54a",
   "metadata": {},
   "source": [
    "## This notebook demonstrates the full process of `SemanticCodeSearch` using fine-tuned `UnixCoder` model, which implement the code-to-code search engine."
   ]
  },
  {
   "attachments": {},
   "cell_type": "markdown",
   "id": "5eab6b79-c02a-4e7d-8a76-26a2459046e3",
   "metadata": {
    "id": "Eh1yfA0-Dt-f"
   },
   "source": [
    "### Prepare dataset for search engine"
   ]
  },
  {
   "cell_type": "code",
   "execution_count": 1,
   "id": "48a497c7-d10e-447b-87bc-6b3ab3f207e9",
   "metadata": {
    "id": "_G--A3sT61LR"
   },
   "outputs": [],
   "source": [
    "from data import file_to_lists\n",
    "\n",
    "repo = 'keon/algorithms'\n",
    "repo_info = {}\n",
    "function_list = file_to_lists(f\"content/output/{repo}/directory_info.json\")\n",
    "repo_info[\"funcs\"] = function_list"
   ]
  },
  {
   "attachments": {},
   "cell_type": "markdown",
   "id": "e6082290-7008-43ef-aff0-04800b02af2e",
   "metadata": {},
   "source": [
    "### Generate embeddings for all repositories"
   ]
  },
  {
   "cell_type": "code",
   "execution_count": 2,
   "id": "a96e9d6b-c820-4f3c-8827-16af33dbd197",
   "metadata": {},
   "outputs": [
    {
     "name": "stderr",
     "output_type": "stream",
     "text": [
      "/cs/home/cd271/codesearch/lib64/python3.9/site-packages/tqdm/auto.py:21: TqdmWarning: IProgress not found. Please update jupyter and ipywidgets. See https://ipywidgets.readthedocs.io/en/stable/user_install.html\n",
      "  from .autonotebook import tqdm as notebook_tqdm\n"
     ]
    },
    {
     "name": "stdout",
     "output_type": "stream",
     "text": [
      "Generating code embeddings for dataset ... \n"
     ]
    },
    {
     "name": "stderr",
     "output_type": "stream",
     "text": [
      "100%|███████████████████████████████████████████████████████████████████████████████| 1171/1171 [01:05<00:00, 17.83it/s]"
     ]
    },
    {
     "name": "stdout",
     "output_type": "stream",
     "text": [
      "Dataset code embeddings generated!\n"
     ]
    },
    {
     "name": "stderr",
     "output_type": "stream",
     "text": [
      "\n"
     ]
    }
   ],
   "source": [
    "from tqdm import tqdm\n",
    "from model import get_code_embeddings, get_cos_similarity, retrieve_topN\n",
    "\n",
    "print(\"Generating code embeddings for dataset ... \")\n",
    "code_embeddings = []\n",
    "for func in tqdm(repo_info[\"funcs\"]):\n",
    "    code_embeddings.append(get_code_embeddings(func))\n",
    "    \n",
    "print(\"Dataset code embeddings generated!\")"
   ]
  },
  {
   "cell_type": "markdown",
   "id": "29d144d1-3d18-4852-9765-b8b58df0109d",
   "metadata": {},
   "source": [
    "### Query Example:\n",
    "```\n",
    "query = \"\"\"\n",
    "def test_topsort(self):\n",
    "    res_recursive = top_sort_recursive(self.depGraph)\n",
    "    self.assertTrue(res_recursive.index('g') < res_recursive.index('e'))\n",
    "    \n",
    "    res_iterative = top_sort(self.depGraph)\n",
    "    self.assertTrue(res_iterative.index('g') < res_iterative.index('e'))\n",
    "\n",
    "\"\"\"\n",
    "```"
   ]
  },
  {
   "cell_type": "code",
   "execution_count": 3,
   "id": "41b08031-024e-47f0-9917-4d0e22bac123",
   "metadata": {},
   "outputs": [
    {
     "name": "stdin",
     "output_type": "stream",
     "text": [
      "Please input the code snippet you want to search: \n",
      " def test_topsort(self):     res_recursive = top_sort_recursive(self.depGraph)     self.assertTrue(res_recursive.index('g') < res_recursive.index('e'))          res_iterative = top_sort(self.depGraph)     self.assertTrue(res_iterative.index('g') < res_iterative.index('e'))\n"
     ]
    },
    {
     "name": "stdout",
     "output_type": "stream",
     "text": [
      "\n",
      "Generating embeddings for query code ...\n",
      "Input code snippet embedding generated!\n"
     ]
    }
   ],
   "source": [
    "query = input(\"Please input the code snippet you want to search: \\n\")\n",
    "\n",
    "print(\"\\nGenerating embeddings for query code ...\")\n",
    "input_embedding = get_code_embeddings(query)\n",
    "print(\"Input code snippet embedding generated!\")"
   ]
  },
  {
   "cell_type": "code",
   "execution_count": 4,
   "id": "38e123be-4eec-4f6d-aff4-a94b9de29c5e",
   "metadata": {},
   "outputs": [
    {
     "name": "stdout",
     "output_type": "stream",
     "text": [
      "Calulating the similarity...\n"
     ]
    }
   ],
   "source": [
    "print(\"Calulating the similarity...\")\n",
    "similarities = get_cos_similarity(input_embedding, code_embeddings)"
   ]
  },
  {
   "cell_type": "code",
   "execution_count": 6,
   "id": "a8503c9b-734f-4bce-9cc6-46599cbd1e0c",
   "metadata": {},
   "outputs": [
    {
     "name": "stdin",
     "output_type": "stream",
     "text": [
      "How many similar code snippets you want to retrieve:  5\n"
     ]
    },
    {
     "name": "stdout",
     "output_type": "stream",
     "text": [
      "The most similiar {n} code snippets:\n",
      "\n",
      "------------------------------------------------------------------\n",
      " def test_topsort(self):\n",
      "    res = top_sort_recursive(self.depGraph)\n",
      "    self.assertTrue(res.index('g') < res.index('e'))\n",
      "    res = top_sort(self.depGraph)\n",
      "    self.assertTrue(res.index('g') < res.index('e'))\n",
      "\n",
      "------------------------------------------------------------------\n",
      " def dfs(res, root, cur):\n",
      "    if root.left is None and root.right is None:\n",
      "        res.append(cur)\n",
      "    if root.left:\n",
      "        dfs(res, root.left, cur + '->' + str(root.left.val))\n",
      "    if root.right:\n",
      "        dfs(res, root.right, cur + '->' + str(root.right.val))\n",
      "\n",
      "------------------------------------------------------------------\n",
      " def string_reverse(s):\n",
      "    return s[::-1]\n",
      "\n",
      "------------------------------------------------------------------\n",
      " def rotate_right(self):\n",
      "    \"\"\"\n",
      "        Right rotation\n",
      "        \"\"\"\n",
      "    new_root = self.node.left.node\n",
      "    new_left_sub = new_root.right.node\n",
      "    old_root = self.node\n",
      "    self.node = new_root\n",
      "    old_root.left.node = new_left_sub\n",
      "    new_root.right.node = old_root\n",
      "\n",
      "------------------------------------------------------------------\n",
      " def test_no_symbol_equal(self):\n",
      "    s = 'abcd'\n",
      "    p = 'abcd'\n",
      "    self.assertTrue(regex_matching.is_match(s, p))\n"
     ]
    }
   ],
   "source": [
    "n = int(input(\"How many similar code snippets you want to retrieve: \"))\n",
    "similar_func_names = retrieve_topN(repo_info, similarities, n)\n",
    "\n",
    "print('The most similiar {n} code snippets:')\n",
    "for func_name in similar_func_names:\n",
    "    print(f'\\n------------------------------------------------------------------\\n {func_name}')"
   ]
  },
  {
   "cell_type": "code",
   "execution_count": null,
   "id": "feb20b6b-8ffd-4dbf-846a-e286e8d3156e",
   "metadata": {},
   "outputs": [],
   "source": [
    "# from IPython.core.magic import (register_line_magic, register_cell_magic, register_line_cell_magic)\n",
    "# @register_cell_magic\n",
    "# def search(line, cell):\n",
    "#     return se.search(cell)"
   ]
  }
 ],
 "metadata": {
  "kernelspec": {
   "display_name": "Python 3 (ipykernel)",
   "language": "python",
   "name": "python3"
  },
  "language_info": {
   "codemirror_mode": {
    "name": "ipython",
    "version": 3
   },
   "file_extension": ".py",
   "mimetype": "text/x-python",
   "name": "python",
   "nbconvert_exporter": "python",
   "pygments_lexer": "ipython3",
   "version": "3.9.16"
  }
 },
 "nbformat": 4,
 "nbformat_minor": 5
}
